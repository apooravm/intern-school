{
 "cells": [
  {
   "cell_type": "code",
   "execution_count": 61,
   "id": "8363b242",
   "metadata": {},
   "outputs": [],
   "source": [
    "consonants = [\n",
    "    ['क', 'ka'],\n",
    "    ['ख', 'kha'],\n",
    "    ['ग', 'ga'],\n",
    "    ['घ', 'gha'],\n",
    "    ['च', 'cha'],\n",
    "    ['छ', 'chha'],\n",
    "    ['ज', 'ja'],\n",
    "    ['झ', 'jha'],\n",
    "    ['ट', 'ta'],\n",
    "    ['ण', 'rna'],\n",
    "    ['त', 'ta'],\n",
    "    ['थ', 'tha'],\n",
    "    ['द', 'da'],\n",
    "    ['ध', 'thda'],\n",
    "    ['न', 'na'],\n",
    "    ['प', 'pa'],\n",
    "    ['फ', 'fa'],\n",
    "    ['ब', 'ba'],\n",
    "    ['भ', 'bha'],\n",
    "    ['म', 'ma'],\n",
    "    ['य', 'ya'],\n",
    "    ['र', 'ra'],\n",
    "    ['व', 'va'],\n",
    "    ['ल', 'la'],\n",
    "    ['श', 'sha'],\n",
    "    ['ष', 'shha'],\n",
    "    ['स', 'sa'],\n",
    "    ['ह', 'ha'],\n",
    "    ['ळ', 'arda'],\n",
    "    ['क्ष', 'ksha']\n",
    "]\n",
    "vowels = [\n",
    "    ['अ', 'a'],\n",
    "    ['आ', 'aa'],\n",
    "    ['इ', 'i'],\n",
    "    ['ई', 'ii'],\n",
    "    ['उ', 'u'],\n",
    "    ['ऊ', 'uu'],\n",
    "    ['ए', 'e'],\n",
    "    ['ऐ', 'ai'],\n",
    "    ['ओ', 'o'],\n",
    "    ['औ', 'au'],\n",
    "    ['अं', 'an']\n",
    "]"
   ]
  },
  {
   "cell_type": "code",
   "execution_count": 38,
   "id": "7a17932b",
   "metadata": {},
   "outputs": [
    {
     "data": {
      "text/plain": [
       "[['अ', 'a'],\n",
       " ['आ', 'aa'],\n",
       " ['इ', 'i'],\n",
       " ['ई', 'ii'],\n",
       " ['उ', 'u'],\n",
       " ['ऊ', 'uu'],\n",
       " ['ए', 'e'],\n",
       " ['ऐ', 'ai'],\n",
       " ['ओ', 'o'],\n",
       " ['औ', 'au'],\n",
       " ['अं', 'an']]"
      ]
     },
     "execution_count": 38,
     "metadata": {},
     "output_type": "execute_result"
    }
   ],
   "source": [
    "vowels"
   ]
  },
  {
   "cell_type": "code",
   "execution_count": 15,
   "id": "8e2b3721",
   "metadata": {},
   "outputs": [
    {
     "data": {
      "text/plain": [
       "30"
      ]
     },
     "execution_count": 15,
     "metadata": {},
     "output_type": "execute_result"
    }
   ],
   "source": [
    "len(consonants)"
   ]
  },
  {
   "cell_type": "code",
   "execution_count": 62,
   "id": "6bbcdd02",
   "metadata": {},
   "outputs": [
    {
     "name": "stdout",
     "output_type": "stream",
     "text": [
      "k ------- ka\n",
      "kha ----- kha\n",
      "ga ------ ga\n",
      "gha ----- gha\n",
      "cha ----- cha\n",
      "chha ---- chha\n",
      "ja ------ ja\n",
      "jha ----- jha\n",
      "ta ------ ta\n",
      "na ------ rna\n",
      "tta ----- ta\n",
      "tha ----- tha\n",
      "da ------ da\n",
      "thda ---- thda\n",
      "na ------ na\n",
      "pa ------ pa\n",
      "fa ------ fa\n",
      "ba ------ ba\n",
      "bha ----- bha\n",
      "ma ------ ma\n",
      "ya ------ ya\n",
      "ra ------ ra\n",
      "va ------ va\n",
      "la ------ la\n",
      "sha ----- sha\n",
      "shha ---- shha\n",
      "sa ------ sa\n",
      "ha ------ ha\n",
      "arda ---- arda\n",
      "ksha ---- ksha\n"
     ]
    }
   ],
   "source": [
    "for x, y in zip(renameArr, consonants):\n",
    "    print(x, (8-len(x))*\"-\", y[1])"
   ]
  },
  {
   "cell_type": "code",
   "execution_count": 72,
   "id": "1a67a4d9",
   "metadata": {},
   "outputs": [],
   "source": [
    "from pathlib import Path\n",
    "\n",
    "renameArr = []\n",
    "\n",
    "consonantsAudio = Path('./consonantsAudio/')\n",
    "for idx, (audioFile, consArr) in enumerate(zip(consonantsAudio.iterdir(), consonants), 1):\n",
    "    rename = f\"s_{'0' + str(idx) if len(str(idx)) == 1 else str(idx)}_{consArr[1]}_{consArr[0]}\"\n",
    "    nameSplit = audioFile.name.split(\"_\")\n",
    "    renameArr.append(nameSplit[1])\n",
    "#     print(nameSplit[1], idx)\n",
    "    rename = f\"s_{'0' + str(idx) if len(str(idx)) == 1 else str(idx)}_{consArr[1]}_{consArr[0]}\"\n",
    "    renameArr.append(rename)\n",
    "    new_file_path = audioFile.with_name(rename+'.mp3')\n",
    "    audioFile.rename(new_file_path)"
   ]
  },
  {
   "cell_type": "code",
   "execution_count": 19,
   "id": "a3ca25b1",
   "metadata": {},
   "outputs": [
    {
     "name": "stdout",
     "output_type": "stream",
     "text": [
      "0 apple milk\n",
      "1 mango eggs\n",
      "2 banana bread\n"
     ]
    }
   ],
   "source": [
    "a = ['apple', 'mango', 'banana']\n",
    "b = ['milk', 'eggs', 'bread']\n",
    "for count, (fruit, groc) in enumerate(zip(a, b)):\n",
    "    print(count, fruit, groc)"
   ]
  },
  {
   "cell_type": "code",
   "execution_count": 21,
   "id": "0570609d",
   "metadata": {},
   "outputs": [
    {
     "data": {
      "text/plain": [
       "WindowsPath('new_file.mp3')"
      ]
     },
     "execution_count": 21,
     "metadata": {},
     "output_type": "execute_result"
    }
   ],
   "source": [
    "file_path = Path('./01_k_sound.mp3')\n",
    "\n",
    "# Rename the file\n",
    "new_file_path = file_path.with_name('new_file.mp3')\n",
    "new_file_path"
   ]
  },
  {
   "cell_type": "code",
   "execution_count": 101,
   "id": "76f55ed4",
   "metadata": {},
   "outputs": [
    {
     "data": {
      "text/plain": [
       "WindowsPath('mppo.mp2')"
      ]
     },
     "execution_count": 101,
     "metadata": {},
     "output_type": "execute_result"
    }
   ],
   "source": [
    "Path('mppo.mp2')"
   ]
  },
  {
   "cell_type": "code",
   "execution_count": 97,
   "id": "fb503da0",
   "metadata": {},
   "outputs": [
    {
     "name": "stdout",
     "output_type": "stream",
     "text": [
      "import ka_sound_01_क from './assets/consonantSound/s_01_ka_क.mp3';\n",
      "import kha_sound_02_ख from './assets/consonantSound/s_02_kha_ख.mp3';\n",
      "import ga_sound_03_ग from './assets/consonantSound/s_03_ga_ग.mp3';\n",
      "import gha_sound_04_घ from './assets/consonantSound/s_04_gha_घ.mp3';\n",
      "import cha_sound_05_च from './assets/consonantSound/s_05_cha_च.mp3';\n",
      "import chha_sound_06_छ from './assets/consonantSound/s_06_chha_छ.mp3';\n",
      "import ja_sound_07_ज from './assets/consonantSound/s_07_ja_ज.mp3';\n",
      "import jha_sound_08_झ from './assets/consonantSound/s_08_jha_झ.mp3';\n",
      "import ta_sound_09_ट from './assets/consonantSound/s_09_ta_ट.mp3';\n",
      "import rna_sound_10_ण from './assets/consonantSound/s_10_rna_ण.mp3';\n",
      "import ta_sound_11_त from './assets/consonantSound/s_11_ta_त.mp3';\n",
      "import tha_sound_12_थ from './assets/consonantSound/s_12_tha_थ.mp3';\n",
      "import da_sound_13_द from './assets/consonantSound/s_13_da_द.mp3';\n",
      "import thda_sound_14_ध from './assets/consonantSound/s_14_thda_ध.mp3';\n",
      "import na_sound_15_न from './assets/consonantSound/s_15_na_न.mp3';\n",
      "import pa_sound_16_प from './assets/consonantSound/s_16_pa_प.mp3';\n",
      "import fa_sound_17_फ from './assets/consonantSound/s_17_fa_फ.mp3';\n",
      "import ba_sound_18_ब from './assets/consonantSound/s_18_ba_ब.mp3';\n",
      "import bha_sound_19_भ from './assets/consonantSound/s_19_bha_भ.mp3';\n",
      "import ma_sound_20_म from './assets/consonantSound/s_20_ma_म.mp3';\n",
      "import ya_sound_21_य from './assets/consonantSound/s_21_ya_य.mp3';\n",
      "import ra_sound_22_र from './assets/consonantSound/s_22_ra_र.mp3';\n",
      "import va_sound_23_व from './assets/consonantSound/s_23_va_व.mp3';\n",
      "import la_sound_24_ल from './assets/consonantSound/s_24_la_ल.mp3';\n",
      "import sha_sound_25_श from './assets/consonantSound/s_25_sha_श.mp3';\n",
      "import shha_sound_26_ष from './assets/consonantSound/s_26_shha_ष.mp3';\n",
      "import sa_sound_27_स from './assets/consonantSound/s_27_sa_स.mp3';\n",
      "import ha_sound_28_ह from './assets/consonantSound/s_28_ha_ह.mp3';\n",
      "import arda_sound_29_ळ from './assets/consonantSound/s_29_arda_ळ.mp3';\n",
      "import ksha_sound_30_क्ष from './assets/consonantSound/s_30_ksha_क्ष.mp3';\n"
     ]
    }
   ],
   "source": [
    "importsArr = []\n",
    "consonantsAudio = Path('./consonantsAudio/')\n",
    "for idx, audioFile in enumerate(consonantsAudio.iterdir(), 1):\n",
    "    nameSplit = str(audioFile.name).split('_')\n",
    "    importName = f\"{nameSplit[2]}_sound_{nameSplit[1]}_{nameSplit[3].split('.')[0]}\"\n",
    "    importsArr.append(importName)\n",
    "    print(f\"import {importName} from './assets/consonantSound/{audioFile.name}';\")"
   ]
  },
  {
   "cell_type": "code",
   "execution_count": 100,
   "id": "47cb3c4a",
   "metadata": {},
   "outputs": [
    {
     "name": "stdout",
     "output_type": "stream",
     "text": [
      "'क': ka_sound_01_क,\n",
      "'ख': kha_sound_02_ख,\n",
      "'ग': ga_sound_03_ग,\n",
      "'घ': gha_sound_04_घ,\n",
      "'च': cha_sound_05_च,\n",
      "'छ': chha_sound_06_छ,\n",
      "'ज': ja_sound_07_ज,\n",
      "'झ': jha_sound_08_झ,\n",
      "'ट': ta_sound_09_ट,\n",
      "'ण': rna_sound_10_ण,\n",
      "'त': ta_sound_11_त,\n",
      "'थ': tha_sound_12_थ,\n",
      "'द': da_sound_13_द,\n",
      "'ध': thda_sound_14_ध,\n",
      "'न': na_sound_15_न,\n",
      "'प': pa_sound_16_प,\n",
      "'फ': fa_sound_17_फ,\n",
      "'ब': ba_sound_18_ब,\n",
      "'भ': bha_sound_19_भ,\n",
      "'म': ma_sound_20_म,\n",
      "'य': ya_sound_21_य,\n",
      "'र': ra_sound_22_र,\n",
      "'व': va_sound_23_व,\n",
      "'ल': la_sound_24_ल,\n",
      "'श': sha_sound_25_श,\n",
      "'ष': shha_sound_26_ष,\n",
      "'स': sa_sound_27_स,\n",
      "'ह': ha_sound_28_ह,\n",
      "'ळ': arda_sound_29_ळ,\n",
      "'क्ष': ksha_sound_30_क्ष,\n"
     ]
    }
   ],
   "source": [
    "consonantMapped = []\n",
    "for consArr, name in zip(consonants, importsArr):\n",
    "    print(f\"'{consArr[0]}': {name},\")"
   ]
  },
  {
   "cell_type": "markdown",
   "id": "6bfdf55c",
   "metadata": {},
   "source": [
    "## Vowel Sounds"
   ]
  },
  {
   "cell_type": "code",
   "execution_count": 105,
   "id": "317cff3d",
   "metadata": {},
   "outputs": [],
   "source": [
    "vowelsPath = Path('./vowelsAudio/')\n",
    "for idx, (audioFile, consArr) in enumerate(zip(vowelsPath.iterdir(), vowels), 1):\n",
    "    rename = f\"s_{'0' + str(idx) if len(str(idx)) == 1 else str(idx)}_{consArr[1]}_{consArr[0]}\"\n",
    "    nameSplit = audioFile.name.split(\"_\")\n",
    "    renameArr.append(nameSplit[1])\n",
    "    rename = f\"s_{'0' + str(idx) if len(str(idx)) == 1 else str(idx)}_{consArr[1]}_{consArr[0]}\"\n",
    "    renameArr.append(rename)\n",
    "    new_file_path = audioFile.with_name(rename+'.mp3')\n",
    "    audioFile.rename(new_file_path)"
   ]
  },
  {
   "cell_type": "code",
   "execution_count": 110,
   "id": "7ca3904e",
   "metadata": {},
   "outputs": [
    {
     "name": "stdout",
     "output_type": "stream",
     "text": [
      "import a_sound_01_अ from './assets/vowelsAudio/s_01_a_अ.mp3';\n",
      "import aa_sound_02_आ from './assets/vowelsAudio/s_02_aa_आ.mp3';\n",
      "import i_sound_03_इ from './assets/vowelsAudio/s_03_i_इ.mp3';\n",
      "import ii_sound_04_ई from './assets/vowelsAudio/s_04_ii_ई.mp3';\n",
      "import u_sound_05_उ from './assets/vowelsAudio/s_05_u_उ.mp3';\n",
      "import uu_sound_06_ऊ from './assets/vowelsAudio/s_06_uu_ऊ.mp3';\n",
      "import e_sound_07_ए from './assets/vowelsAudio/s_07_e_ए.mp3';\n",
      "import ai_sound_08_ऐ from './assets/vowelsAudio/s_08_ai_ऐ.mp3';\n",
      "import o_sound_09_ओ from './assets/vowelsAudio/s_09_o_ओ.mp3';\n",
      "import au_sound_10_औ from './assets/vowelsAudio/s_10_au_औ.mp3';\n",
      "import an_sound_11_अं from './assets/vowelsAudio/s_11_an_अं.mp3';\n"
     ]
    }
   ],
   "source": [
    "vowelsImports = []\n",
    "vowelsAudio = Path('./vowelsAudio//')\n",
    "for idx, audioFile in enumerate(vowelsAudio.iterdir(), 1):\n",
    "    nameSplit = str(audioFile.name).split('_')\n",
    "    importName = f\"{nameSplit[2]}_sound_{nameSplit[1]}_{nameSplit[3].split('.')[0]}\"\n",
    "    vowelsImports.append(importName)\n",
    "    print(f\"import {importName} from './assets/vowelsAudio/{audioFile.name}';\")"
   ]
  },
  {
   "cell_type": "code",
   "execution_count": 111,
   "id": "15813fd6",
   "metadata": {},
   "outputs": [
    {
     "name": "stdout",
     "output_type": "stream",
     "text": [
      "'अ': a_sound_01_अ,\n",
      "'आ': aa_sound_02_आ,\n",
      "'इ': i_sound_03_इ,\n",
      "'ई': ii_sound_04_ई,\n",
      "'उ': u_sound_05_उ,\n",
      "'ऊ': uu_sound_06_ऊ,\n",
      "'ए': e_sound_07_ए,\n",
      "'ऐ': ai_sound_08_ऐ,\n",
      "'ओ': o_sound_09_ओ,\n",
      "'औ': au_sound_10_औ,\n",
      "'अं': an_sound_11_अं,\n"
     ]
    }
   ],
   "source": [
    "vowelsMapped = []\n",
    "for vowelsArr, name in zip(vowels, vowelsImports):\n",
    "    print(f\"'{vowelsArr[0]}': {name},\")"
   ]
  }
 ],
 "metadata": {
  "kernelspec": {
   "display_name": "Python 3 (ipykernel)",
   "language": "python",
   "name": "python3"
  },
  "language_info": {
   "codemirror_mode": {
    "name": "ipython",
    "version": 3
   },
   "file_extension": ".py",
   "mimetype": "text/x-python",
   "name": "python",
   "nbconvert_exporter": "python",
   "pygments_lexer": "ipython3",
   "version": "3.11.1"
  }
 },
 "nbformat": 4,
 "nbformat_minor": 5
}
