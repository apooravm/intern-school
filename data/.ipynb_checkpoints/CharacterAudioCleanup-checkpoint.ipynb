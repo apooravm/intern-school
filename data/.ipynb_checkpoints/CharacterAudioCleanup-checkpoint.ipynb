{
 "cells": [
  {
   "cell_type": "code",
   "execution_count": 14,
   "id": "bcfbb767",
   "metadata": {},
   "outputs": [],
   "source": [
    "consonants = [\n",
    "    ['क', 'ka'],\n",
    "    ['ख', 'kha'],\n",
    "    ['ग', 'ga'],\n",
    "    ['घ', 'gha'],\n",
    "    ['च', 'cha'],\n",
    "    ['छ', 'chha'],\n",
    "    ['ज', 'ja'],\n",
    "    ['झ', 'jha'],\n",
    "    ['ट', 'ta'],\n",
    "    ['ण', 'rna'],\n",
    "    ['त', 'ta'],\n",
    "    ['थ', 'tha'],\n",
    "    ['द', 'da'],\n",
    "    ['ध', 'thda'],\n",
    "    ['न', 'na'],\n",
    "    ['प', 'pa'],\n",
    "    ['फ', 'fa'],\n",
    "    ['ब', 'ba'],\n",
    "    ['भ', 'bha'],\n",
    "    ['म', 'ma'],\n",
    "    ['य', 'ya'],\n",
    "    ['र', 'ra'],\n",
    "    ['व', 'va'],\n",
    "    ['ल', 'la'],\n",
    "    ['श', 'sha'],\n",
    "    ['ष', 'shha'],\n",
    "    ['स', 'sa'],\n",
    "    ['ह', 'ha'],\n",
    "    ['ळ', 'arda'],\n",
    "    ['क्ष', 'ksha']\n",
    "]\n",
    "\n",
    "vowels = [\n",
    "    ['']\n",
    "]"
   ]
  },
  {
   "cell_type": "code",
   "execution_count": 15,
   "id": "2f8ce4ba",
   "metadata": {},
   "outputs": [
    {
     "data": {
      "text/plain": [
       "30"
      ]
     },
     "execution_count": 15,
     "metadata": {},
     "output_type": "execute_result"
    }
   ],
   "source": [
    "len(consonants)"
   ]
  },
  {
   "cell_type": "code",
   "execution_count": 32,
   "id": "d0080418",
   "metadata": {},
   "outputs": [],
   "source": [
    "from pathlib import Path\n",
    "\n",
    "renameArr = []\n",
    "\n",
    "consonantsAudio = Path('./consonantsAudio/')\n",
    "for idx, (audioFile, consArr) in enumerate(zip(consonantsAudio.iterdir(), consonants), 1):\n",
    "    rename = f\"s_{'0' + str(idx) if len(str(idx)) == 1 else str(idx)}_{consArr[1]}_{consArr[0]}\"\n",
    "    renameArr.append(rename)\n",
    "    new_file_path = audioFile.with_name(rename+'.mp3')\n",
    "    audioFile.rename(new_file_path)"
   ]
  },
  {
   "cell_type": "code",
   "execution_count": 19,
   "id": "fc3b5e52",
   "metadata": {},
   "outputs": [
    {
     "name": "stdout",
     "output_type": "stream",
     "text": [
      "0 apple milk\n",
      "1 mango eggs\n",
      "2 banana bread\n"
     ]
    }
   ],
   "source": [
    "a = ['apple', 'mango', 'banana']\n",
    "b = ['milk', 'eggs', 'bread']\n",
    "for count, (fruit, groc) in enumerate(zip(a, b)):\n",
    "    print(count, fruit, groc)"
   ]
  },
  {
   "cell_type": "code",
   "execution_count": 21,
   "id": "adcd0232",
   "metadata": {},
   "outputs": [
    {
     "data": {
      "text/plain": [
       "WindowsPath('new_file.mp3')"
      ]
     },
     "execution_count": 21,
     "metadata": {},
     "output_type": "execute_result"
    }
   ],
   "source": [
    "file_path = Path('./01_k_sound.mp3')\n",
    "\n",
    "# Rename the file\n",
    "new_file_path = file_path.with_name('new_file.mp3')\n",
    "new_file_path"
   ]
  },
  {
   "cell_type": "code",
   "execution_count": 22,
   "id": "ea954931",
   "metadata": {},
   "outputs": [
    {
     "data": {
      "text/plain": [
       "WindowsPath('bruh.mp2')"
      ]
     },
     "execution_count": 22,
     "metadata": {},
     "output_type": "execute_result"
    }
   ],
   "source": [
    "Path('bruh.mp2')"
   ]
  },
  {
   "cell_type": "code",
   "execution_count": 34,
   "id": "44617715",
   "metadata": {},
   "outputs": [
    {
     "name": "stdout",
     "output_type": "stream",
     "text": [
      "s_01_ka_क\n",
      "s_02_kha_ख\n",
      "s_03_ga_ग\n",
      "s_04_gha_घ\n",
      "s_05_cha_च\n",
      "s_06_chha_छ\n",
      "s_07_ja_ज\n",
      "s_08_jha_झ\n",
      "s_09_ta_ट\n",
      "s_10_rna_ण\n",
      "s_11_ta_त\n",
      "s_12_tha_थ\n",
      "s_13_da_द\n",
      "s_14_thda_ध\n",
      "s_15_na_न\n",
      "s_16_pa_प\n",
      "s_17_fa_फ\n",
      "s_18_ba_ब\n",
      "s_19_bha_भ\n",
      "s_20_ma_म\n",
      "s_21_ya_य\n",
      "s_22_ra_र\n",
      "s_23_va_व\n",
      "s_24_la_ल\n",
      "s_25_sha_श\n",
      "s_26_shha_ष\n",
      "s_27_sa_स\n",
      "s_28_ha_ह\n",
      "s_29_arda_ळ\n",
      "s_30_ksha_क्ष\n"
     ]
    }
   ],
   "source": [
    "for x in renameArr:\n",
    "    print(x)"
   ]
  }
 ],
 "metadata": {
  "kernelspec": {
   "display_name": "Python 3 (ipykernel)",
   "language": "python",
   "name": "python3"
  },
  "language_info": {
   "codemirror_mode": {
    "name": "ipython",
    "version": 3
   },
   "file_extension": ".py",
   "mimetype": "text/x-python",
   "name": "python",
   "nbconvert_exporter": "python",
   "pygments_lexer": "ipython3",
   "version": "3.11.1"
  }
 },
 "nbformat": 4,
 "nbformat_minor": 5
}
