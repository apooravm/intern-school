{
 "cells": [
  {
   "cell_type": "code",
   "execution_count": 15,
   "id": "e75ca633",
   "metadata": {},
   "outputs": [],
   "source": [
    "import svgwrite\n",
    "\n",
    "def text_to_svg(text, filename):\n",
    "    dwg = svgwrite.Drawing(filename, profile='tiny')\n",
    "    dwg.add(dwg.text(text, insert=(0, 0), fill='black'))\n",
    "    dwg.save()\n",
    "\n",
    "# Usage example\n",
    "text_to_svg(\"Hello, world!\", \"output.svg\")"
   ]
  },
  {
   "cell_type": "code",
   "execution_count": null,
   "id": "44d56050",
   "metadata": {},
   "outputs": [],
   "source": []
  },
  {
   "cell_type": "code",
   "execution_count": 21,
   "id": "159dabd5",
   "metadata": {},
   "outputs": [
    {
     "data": {
      "text/plain": [
       "[['अ', 'a'],\n",
       " ['आ', 'aa'],\n",
       " ['इ', 'i'],\n",
       " ['ई', 'ii'],\n",
       " ['उ', 'u'],\n",
       " ['ऊ', 'uu'],\n",
       " ['ऋ', 'tri'],\n",
       " ['ए', 'e'],\n",
       " ['ऐ', 'ai'],\n",
       " ['ओ', 'o'],\n",
       " ['औ', 'au'],\n",
       " ['अं', 'an']]"
      ]
     },
     "execution_count": 21,
     "metadata": {},
     "output_type": "execute_result"
    }
   ],
   "source": [
    "vowels = ['अ', 'आ', 'इ', 'ई', 'उ', 'ऊ', 'ऋ', 'ए', 'ऐ', 'ओ', 'औ', 'अं']\n",
    "eng_trans = ['a', 'aa', 'i', 'ii', 'u', 'uu', 'tri', 'e', 'ai', 'o', 'au', 'an']\n",
    "\n",
    "vowels_dict = []\n",
    "for v, e in zip(vowels, eng_trans):\n",
    "    vowels_dict.append([v, e])\n",
    "\n",
    "vowels_dict"
   ]
  },
  {
   "cell_type": "code",
   "execution_count": 17,
   "id": "3e678c86",
   "metadata": {},
   "outputs": [],
   "source": [
    "save_loc = './vowels/'\n",
    "for vow, eng in vowels_dict:\n",
    "    text_to_svg(vow, save_loc+eng+'.svg')"
   ]
  }
 ],
 "metadata": {
  "kernelspec": {
   "display_name": "Python 3 (ipykernel)",
   "language": "python",
   "name": "python3"
  },
  "language_info": {
   "codemirror_mode": {
    "name": "ipython",
    "version": 3
   },
   "file_extension": ".py",
   "mimetype": "text/x-python",
   "name": "python",
   "nbconvert_exporter": "python",
   "pygments_lexer": "ipython3",
   "version": "3.11.1"
  }
 },
 "nbformat": 4,
 "nbformat_minor": 5
}
